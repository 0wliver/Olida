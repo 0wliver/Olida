{
 "cells": [
  {
   "cell_type": "markdown",
   "metadata": {},
   "source": [
    "# 回归异常值诊断 Regression Outliers Detection #"
   ]
  },
  {
   "cell_type": "markdown",
   "metadata": {},
   "source": [
    "## 名词说明 ##\n",
    "https://github.com/0wliver/Olida/tree/master/Statistical%20Analysis/Regression%20Outliers%20Detection"
   ]
  },
  {
   "cell_type": "code",
   "execution_count": 1,
   "metadata": {},
   "outputs": [],
   "source": [
    "import statsmodels\n",
    "import statsmodels.api as sm\n",
    "import statsmodels.formula.api as smf\n",
    "import matplotlib.pyplot as plt\n",
    "import pandas as pd"
   ]
  },
  {
   "cell_type": "markdown",
   "metadata": {},
   "source": [
    "## 样本 ##\n",
    "**犯罪率和其它变量的关系数据集**\n",
    "\n",
    "https://stats.idre.ucla.edu/r/dae/robust-regression/"
   ]
  },
  {
   "cell_type": "code",
   "execution_count": 2,
   "metadata": {},
   "outputs": [
    {
     "data": {
      "text/html": [
       "<div>\n",
       "<style scoped>\n",
       "    .dataframe tbody tr th:only-of-type {\n",
       "        vertical-align: middle;\n",
       "    }\n",
       "\n",
       "    .dataframe tbody tr th {\n",
       "        vertical-align: top;\n",
       "    }\n",
       "\n",
       "    .dataframe thead th {\n",
       "        text-align: right;\n",
       "    }\n",
       "</style>\n",
       "<table border=\"1\" class=\"dataframe\">\n",
       "  <thead>\n",
       "    <tr style=\"text-align: right;\">\n",
       "      <th></th>\n",
       "      <th>sid</th>\n",
       "      <th>state</th>\n",
       "      <th>crime</th>\n",
       "      <th>murder</th>\n",
       "      <th>pctmetro</th>\n",
       "      <th>pctwhite</th>\n",
       "      <th>pcths</th>\n",
       "      <th>poverty</th>\n",
       "      <th>single</th>\n",
       "    </tr>\n",
       "  </thead>\n",
       "  <tbody>\n",
       "    <tr>\n",
       "      <th>0</th>\n",
       "      <td>1.0</td>\n",
       "      <td>ak</td>\n",
       "      <td>761</td>\n",
       "      <td>9.0</td>\n",
       "      <td>41.799999</td>\n",
       "      <td>75.199997</td>\n",
       "      <td>86.599998</td>\n",
       "      <td>9.100000</td>\n",
       "      <td>14.3</td>\n",
       "    </tr>\n",
       "    <tr>\n",
       "      <th>1</th>\n",
       "      <td>2.0</td>\n",
       "      <td>al</td>\n",
       "      <td>780</td>\n",
       "      <td>11.6</td>\n",
       "      <td>67.400002</td>\n",
       "      <td>73.500000</td>\n",
       "      <td>66.900002</td>\n",
       "      <td>17.400000</td>\n",
       "      <td>11.5</td>\n",
       "    </tr>\n",
       "    <tr>\n",
       "      <th>2</th>\n",
       "      <td>3.0</td>\n",
       "      <td>ar</td>\n",
       "      <td>593</td>\n",
       "      <td>10.2</td>\n",
       "      <td>44.700001</td>\n",
       "      <td>82.900002</td>\n",
       "      <td>66.300003</td>\n",
       "      <td>20.000000</td>\n",
       "      <td>10.7</td>\n",
       "    </tr>\n",
       "    <tr>\n",
       "      <th>3</th>\n",
       "      <td>4.0</td>\n",
       "      <td>az</td>\n",
       "      <td>715</td>\n",
       "      <td>8.6</td>\n",
       "      <td>84.699997</td>\n",
       "      <td>88.599998</td>\n",
       "      <td>78.699997</td>\n",
       "      <td>15.400000</td>\n",
       "      <td>12.1</td>\n",
       "    </tr>\n",
       "    <tr>\n",
       "      <th>4</th>\n",
       "      <td>5.0</td>\n",
       "      <td>ca</td>\n",
       "      <td>1078</td>\n",
       "      <td>13.1</td>\n",
       "      <td>96.699997</td>\n",
       "      <td>79.300003</td>\n",
       "      <td>76.199997</td>\n",
       "      <td>18.200001</td>\n",
       "      <td>12.5</td>\n",
       "    </tr>\n",
       "    <tr>\n",
       "      <th>5</th>\n",
       "      <td>6.0</td>\n",
       "      <td>co</td>\n",
       "      <td>567</td>\n",
       "      <td>5.8</td>\n",
       "      <td>81.800003</td>\n",
       "      <td>92.500000</td>\n",
       "      <td>84.400002</td>\n",
       "      <td>9.900000</td>\n",
       "      <td>12.1</td>\n",
       "    </tr>\n",
       "    <tr>\n",
       "      <th>6</th>\n",
       "      <td>7.0</td>\n",
       "      <td>ct</td>\n",
       "      <td>456</td>\n",
       "      <td>6.3</td>\n",
       "      <td>95.699997</td>\n",
       "      <td>89.000000</td>\n",
       "      <td>79.199997</td>\n",
       "      <td>8.500000</td>\n",
       "      <td>10.1</td>\n",
       "    </tr>\n",
       "    <tr>\n",
       "      <th>7</th>\n",
       "      <td>8.0</td>\n",
       "      <td>de</td>\n",
       "      <td>686</td>\n",
       "      <td>5.0</td>\n",
       "      <td>82.699997</td>\n",
       "      <td>79.400002</td>\n",
       "      <td>77.500000</td>\n",
       "      <td>10.200000</td>\n",
       "      <td>11.4</td>\n",
       "    </tr>\n",
       "    <tr>\n",
       "      <th>8</th>\n",
       "      <td>9.0</td>\n",
       "      <td>fl</td>\n",
       "      <td>1206</td>\n",
       "      <td>8.9</td>\n",
       "      <td>93.000000</td>\n",
       "      <td>83.500000</td>\n",
       "      <td>74.400002</td>\n",
       "      <td>17.799999</td>\n",
       "      <td>10.6</td>\n",
       "    </tr>\n",
       "    <tr>\n",
       "      <th>9</th>\n",
       "      <td>10.0</td>\n",
       "      <td>ga</td>\n",
       "      <td>723</td>\n",
       "      <td>11.4</td>\n",
       "      <td>67.699997</td>\n",
       "      <td>70.800003</td>\n",
       "      <td>70.900002</td>\n",
       "      <td>13.500000</td>\n",
       "      <td>13.0</td>\n",
       "    </tr>\n",
       "  </tbody>\n",
       "</table>\n",
       "</div>"
      ],
      "text/plain": [
       "    sid state  crime  murder   pctmetro   pctwhite      pcths    poverty  \\\n",
       "0   1.0    ak    761     9.0  41.799999  75.199997  86.599998   9.100000   \n",
       "1   2.0    al    780    11.6  67.400002  73.500000  66.900002  17.400000   \n",
       "2   3.0    ar    593    10.2  44.700001  82.900002  66.300003  20.000000   \n",
       "3   4.0    az    715     8.6  84.699997  88.599998  78.699997  15.400000   \n",
       "4   5.0    ca   1078    13.1  96.699997  79.300003  76.199997  18.200001   \n",
       "5   6.0    co    567     5.8  81.800003  92.500000  84.400002   9.900000   \n",
       "6   7.0    ct    456     6.3  95.699997  89.000000  79.199997   8.500000   \n",
       "7   8.0    de    686     5.0  82.699997  79.400002  77.500000  10.200000   \n",
       "8   9.0    fl   1206     8.9  93.000000  83.500000  74.400002  17.799999   \n",
       "9  10.0    ga    723    11.4  67.699997  70.800003  70.900002  13.500000   \n",
       "\n",
       "   single  \n",
       "0    14.3  \n",
       "1    11.5  \n",
       "2    10.7  \n",
       "3    12.1  \n",
       "4    12.5  \n",
       "5    12.1  \n",
       "6    10.1  \n",
       "7    11.4  \n",
       "8    10.6  \n",
       "9    13.0  "
      ]
     },
     "execution_count": 2,
     "metadata": {},
     "output_type": "execute_result"
    }
   ],
   "source": [
    "origin_data = pd.read_stata(filepath_or_buffer='crime.dta')\n",
    "# origin_data.set_index(keys='state',inplace=True, drop=True)\n",
    "origin_data.head(10)"
   ]
  },
  {
   "cell_type": "code",
   "execution_count": 3,
   "metadata": {},
   "outputs": [
    {
     "data": {
      "text/html": [
       "<div>\n",
       "<style scoped>\n",
       "    .dataframe tbody tr th:only-of-type {\n",
       "        vertical-align: middle;\n",
       "    }\n",
       "\n",
       "    .dataframe tbody tr th {\n",
       "        vertical-align: top;\n",
       "    }\n",
       "\n",
       "    .dataframe thead th {\n",
       "        text-align: right;\n",
       "    }\n",
       "</style>\n",
       "<table border=\"1\" class=\"dataframe\">\n",
       "  <thead>\n",
       "    <tr style=\"text-align: right;\">\n",
       "      <th></th>\n",
       "      <th>crime</th>\n",
       "      <th>single</th>\n",
       "      <th>poverty</th>\n",
       "    </tr>\n",
       "  </thead>\n",
       "  <tbody>\n",
       "    <tr>\n",
       "      <th>count</th>\n",
       "      <td>51.000000</td>\n",
       "      <td>51.000000</td>\n",
       "      <td>51.000000</td>\n",
       "    </tr>\n",
       "    <tr>\n",
       "      <th>mean</th>\n",
       "      <td>612.843137</td>\n",
       "      <td>11.325491</td>\n",
       "      <td>14.258823</td>\n",
       "    </tr>\n",
       "    <tr>\n",
       "      <th>std</th>\n",
       "      <td>441.100323</td>\n",
       "      <td>2.121494</td>\n",
       "      <td>4.584241</td>\n",
       "    </tr>\n",
       "    <tr>\n",
       "      <th>min</th>\n",
       "      <td>82.000000</td>\n",
       "      <td>8.400000</td>\n",
       "      <td>8.000000</td>\n",
       "    </tr>\n",
       "    <tr>\n",
       "      <th>25%</th>\n",
       "      <td>326.500000</td>\n",
       "      <td>10.050000</td>\n",
       "      <td>10.700000</td>\n",
       "    </tr>\n",
       "    <tr>\n",
       "      <th>50%</th>\n",
       "      <td>515.000000</td>\n",
       "      <td>10.900000</td>\n",
       "      <td>13.100000</td>\n",
       "    </tr>\n",
       "    <tr>\n",
       "      <th>75%</th>\n",
       "      <td>773.000000</td>\n",
       "      <td>12.050000</td>\n",
       "      <td>17.400000</td>\n",
       "    </tr>\n",
       "    <tr>\n",
       "      <th>max</th>\n",
       "      <td>2922.000000</td>\n",
       "      <td>22.100000</td>\n",
       "      <td>26.400000</td>\n",
       "    </tr>\n",
       "  </tbody>\n",
       "</table>\n",
       "</div>"
      ],
      "text/plain": [
       "             crime     single    poverty\n",
       "count    51.000000  51.000000  51.000000\n",
       "mean    612.843137  11.325491  14.258823\n",
       "std     441.100323   2.121494   4.584241\n",
       "min      82.000000   8.400000   8.000000\n",
       "25%     326.500000  10.050000  10.700000\n",
       "50%     515.000000  10.900000  13.100000\n",
       "75%     773.000000  12.050000  17.400000\n",
       "max    2922.000000  22.100000  26.400000"
      ]
     },
     "execution_count": 3,
     "metadata": {},
     "output_type": "execute_result"
    }
   ],
   "source": [
    "origin_data.loc[:,['crime','single','poverty']].describe()"
   ]
  },
  {
   "cell_type": "code",
   "execution_count": 4,
   "metadata": {},
   "outputs": [
    {
     "name": "stdout",
     "output_type": "stream",
     "text": [
      "                            OLS Regression Results                            \n",
      "==============================================================================\n",
      "Dep. Variable:                  crime   R-squared:                       0.707\n",
      "Model:                            OLS   Adj. R-squared:                  0.695\n",
      "Method:                 Least Squares   F-statistic:                     57.96\n",
      "Date:                Fri, 05 Oct 2018   Prob (F-statistic):           1.58e-13\n",
      "Time:                        16:30:07   Log-Likelihood:                -351.09\n",
      "No. Observations:                  51   AIC:                             708.2\n",
      "Df Residuals:                      48   BIC:                             714.0\n",
      "Df Model:                           2                                         \n",
      "Covariance Type:            nonrobust                                         \n",
      "==============================================================================\n",
      "                 coef    std err          t      P>|t|      [0.025      0.975]\n",
      "------------------------------------------------------------------------------\n",
      "Intercept  -1368.1887    187.205     -7.308      0.000   -1744.590    -991.787\n",
      "poverty        6.7874      8.989      0.755      0.454     -11.285      24.860\n",
      "single       166.3727     19.423      8.566      0.000     127.320     205.425\n",
      "==============================================================================\n",
      "Omnibus:                        7.065   Durbin-Watson:                   2.040\n",
      "Prob(Omnibus):                  0.029   Jarque-Bera (JB):               10.553\n",
      "Skew:                          -0.276   Prob(JB):                      0.00511\n",
      "Kurtosis:                       5.159   Cond. No.                         103.\n",
      "==============================================================================\n",
      "\n",
      "Warnings:\n",
      "[1] Standard Errors assume that the covariance matrix of the errors is correctly specified.\n"
     ]
    }
   ],
   "source": [
    "ols_model = smf.ols(formula='crime ~ poverty + single', data=origin_data)\n",
    "ols_res = ols_model.fit()\n",
    "print(ols_res.summary())"
   ]
  },
  {
   "cell_type": "code",
   "execution_count": 5,
   "metadata": {},
   "outputs": [
    {
     "name": "stdout",
     "output_type": "stream",
     "text": [
      "                    Robust linear Model Regression Results                    \n",
      "==============================================================================\n",
      "Dep. Variable:                  crime   No. Observations:                   51\n",
      "Model:                            RLM   Df Residuals:                       48\n",
      "Method:                          IRLS   Df Model:                            2\n",
      "Norm:                          HuberT                                         \n",
      "Scale Est.:                       mad                                         \n",
      "Cov Type:                          H1                                         \n",
      "Date:                Fri, 05 Oct 2018                                         \n",
      "Time:                        16:30:08                                         \n",
      "No. Iterations:                    21                                         \n",
      "==============================================================================\n",
      "                 coef    std err          z      P>|z|      [0.025      0.975]\n",
      "------------------------------------------------------------------------------\n",
      "Intercept  -1423.2164    167.511     -8.496      0.000   -1751.531   -1094.902\n",
      "poverty        8.8693      8.043      1.103      0.270      -6.895      24.633\n",
      "single       169.0005     17.380      9.724      0.000     134.937     203.064\n",
      "==============================================================================\n",
      "\n",
      "If the model instance has been used for another fit with different fit\n",
      "parameters, then the fit options might not be the correct ones anymore .\n"
     ]
    }
   ],
   "source": [
    "rlm_model = smf.rlm(formula='crime ~ poverty + single', data=origin_data)\n",
    "rlm_res = rlm_model.fit()\n",
    "print(rlm_res.summary())"
   ]
  },
  {
   "cell_type": "code",
   "execution_count": 6,
   "metadata": {},
   "outputs": [
    {
     "data": {
      "text/plain": [
       "0    0.780405\n",
       "1    1.000000\n",
       "2    1.000000\n",
       "3    1.000000\n",
       "4    1.000000\n",
       "5    1.000000\n",
       "6    1.000000\n",
       "7    1.000000\n",
       "8    0.359479\n",
       "9    1.000000\n",
       "dtype: float64"
      ]
     },
     "execution_count": 6,
     "metadata": {},
     "output_type": "execute_result"
    }
   ],
   "source": [
    "rlm_res.weights.head(10)"
   ]
  },
  {
   "cell_type": "markdown",
   "metadata": {},
   "source": [
    "## 样本影响图 ##\n",
    "\n",
    "http://www.statsmodels.org/stable/generated/statsmodels.graphics.regressionplots.influence_plot.html\n",
    "\n",
    "可看出横轴为杠杆值（x取值），纵轴为学生化（类似于标准化）后的残差值（离群度），样本点的大小为影响度（如cook距离）"
   ]
  },
  {
   "cell_type": "code",
   "execution_count": 7,
   "metadata": {
    "scrolled": true
   },
   "outputs": [
    {
     "data": {
      "image/png": "[encoded data removed]",
      "text/plain": [
       "<Figure size 432x432 with 1 Axes>"
      ]
     },
     "metadata": {},
     "output_type": "display_data"
    }
   ],
   "source": [
    "fig = plt.figure(figsize=(6,6))\n",
    "ax1 = fig.add_subplot(111)\n",
    "p1 = statsmodels.graphics.regressionplots.influence_plot(ols_res, ax=ax1)"
   ]
  },
  {
   "cell_type": "markdown",
   "metadata": {},
   "source": [
    "## 误差平方 vs 杠杆值图 ##\n",
    "\n",
    "http://www.statsmodels.org/stable/generated/statsmodels.graphics.regressionplots.plot_leverage_resid2.html\n",
    "\n",
    "可看出横轴为残差平方值（离群度），纵轴为杠杆值（x取值）"
   ]
  },
  {
   "cell_type": "code",
   "execution_count": 8,
   "metadata": {},
   "outputs": [
    {
     "data": {
      "image/png": "[encoded data removed]",
      "text/plain": [
       "<Figure size 432x432 with 1 Axes>"
      ]
     },
     "metadata": {},
     "output_type": "display_data"
    }
   ],
   "source": [
    "fig2 = plt.figure(figsize=(6,6))\n",
    "ax2 = fig2.add_subplot(111)\n",
    "p2 = statsmodels.graphics.regressionplots.plot_leverage_resid2(ols_res, ax=ax2)"
   ]
  },
  {
   "cell_type": "markdown",
   "metadata": {},
   "source": [
    "## 去除异常点，做OLS ##\n",
    "去除24号样本后，回归效果明显提升（去除50号后回归效果变差）"
   ]
  },
  {
   "cell_type": "code",
   "execution_count": 9,
   "metadata": {},
   "outputs": [],
   "source": [
    "filtered_data = origin_data.drop([24])"
   ]
  },
  {
   "cell_type": "code",
   "execution_count": 10,
   "metadata": {},
   "outputs": [
    {
     "name": "stdout",
     "output_type": "stream",
     "text": [
      "                            OLS Regression Results                            \n",
      "==============================================================================\n",
      "Dep. Variable:                  crime   R-squared:                       0.784\n",
      "Model:                            OLS   Adj. R-squared:                  0.775\n",
      "Method:                 Least Squares   F-statistic:                     85.25\n",
      "Date:                Fri, 05 Oct 2018   Prob (F-statistic):           2.31e-16\n",
      "Time:                        16:30:08   Log-Likelihood:                -337.03\n",
      "No. Observations:                  50   AIC:                             680.1\n",
      "Df Residuals:                      47   BIC:                             685.8\n",
      "Df Model:                           2                                         \n",
      "Covariance Type:            nonrobust                                         \n",
      "==============================================================================\n",
      "                 coef    std err          t      P>|t|      [0.025      0.975]\n",
      "------------------------------------------------------------------------------\n",
      "Intercept  -1514.5030    166.109     -9.118      0.000   -1848.671   -1180.335\n",
      "poverty       14.9318      8.038      1.858      0.070      -1.239      31.103\n",
      "single       170.6458     16.866     10.118      0.000     136.716     204.576\n",
      "==============================================================================\n",
      "Omnibus:                        3.156   Durbin-Watson:                   2.208\n",
      "Prob(Omnibus):                  0.206   Jarque-Bera (JB):                2.124\n",
      "Skew:                           0.401   Prob(JB):                        0.346\n",
      "Kurtosis:                       3.614   Cond. No.                         103.\n",
      "==============================================================================\n",
      "\n",
      "Warnings:\n",
      "[1] Standard Errors assume that the covariance matrix of the errors is correctly specified.\n"
     ]
    }
   ],
   "source": [
    "# 去除50号后R-squared下降至不到0.5，去除24号后上升至0.78\n",
    "ols_model_2 = smf.ols(formula='crime ~ poverty + single', data=filtered_data)\n",
    "ols_res_2 = ols_model_2.fit()\n",
    "print(ols_res_2.summary())"
   ]
  }
 ],
 "metadata": {
  "kernelspec": {
   "display_name": "Python 3",
   "language": "python",
   "name": "python3"
  },
  "language_info": {
   "codemirror_mode": {
    "name": "ipython",
    "version": 3
   },
   "file_extension": ".py",
   "mimetype": "text/x-python",
   "name": "python",
   "nbconvert_exporter": "python",
   "pygments_lexer": "ipython3",
   "version": "3.6.6"
  }
 },
 "nbformat": 4,
 "nbformat_minor": 2
}
